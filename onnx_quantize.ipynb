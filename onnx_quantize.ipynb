{
 "cells": [
  {
   "cell_type": "code",
   "execution_count": 1,
   "metadata": {},
   "outputs": [],
   "source": [
    "# https://onnxruntime.ai/docs/performance/quantization.html\n",
    "import onnx\n",
    "from onnxruntime.quantization import quantize_dynamic, QuantType"
   ]
  },
  {
   "cell_type": "code",
   "execution_count": 2,
   "metadata": {},
   "outputs": [
    {
     "name": "stdout",
     "output_type": "stream",
     "text": [
      "__MODEL_PROTO.onnx\r\n",
      "__MODEL_PROTO-opt.onnx\r\n"
     ]
    }
   ],
   "source": [
    "!ls cpm_2_0_encoder_onnx | grep onnx"
   ]
  },
  {
   "cell_type": "code",
   "execution_count": 3,
   "metadata": {},
   "outputs": [],
   "source": [
    "!mkdir -p cpm_2_0_encoder_onnx_q"
   ]
  },
  {
   "cell_type": "code",
   "execution_count": 4,
   "metadata": {},
   "outputs": [],
   "source": [
    "model_fp32 = 'cpm_2_0_encoder_onnx/__MODEL_PROTO.onnx'\n",
    "model_quant = 'cpm_2_0_encoder_onnx_q/__MODEL_PROTO.onnx'"
   ]
  },
  {
   "cell_type": "code",
   "execution_count": 5,
   "metadata": {},
   "outputs": [],
   "source": [
    "# /opt/conda/lib/python3.8/site-packages/onnxruntime/quantization/onnx_quantizer.py\n",
    "# 模型太大，只有最新版增加DisableShapeInference才能关闭infer_shapes不报错\n",
    "# 但是现在装的不是最新版，所以我直接去修改了上面的文件，屏蔽了\n",
    "# model = onnx.shape_inference.infer_shapes(model)\n",
    "# 这一行\n",
    "quantized_model = quantize_dynamic(\n",
    "    model_fp32, model_quant, weight_type=QuantType.QUInt8, use_external_data_format=True,\n",
    "    extra_options={\n",
    "        'DisableShapeInference': True,\n",
    "    }\n",
    ")"
   ]
  },
  {
   "cell_type": "code",
   "execution_count": 2,
   "metadata": {},
   "outputs": [],
   "source": []
  },
  {
   "cell_type": "code",
   "execution_count": null,
   "metadata": {},
   "outputs": [],
   "source": []
  }
 ],
 "metadata": {
  "kernelspec": {
   "display_name": "Python 3",
   "language": "python",
   "name": "python3"
  },
  "language_info": {
   "codemirror_mode": {
    "name": "ipython",
    "version": 3
   },
   "file_extension": ".py",
   "mimetype": "text/x-python",
   "name": "python",
   "nbconvert_exporter": "python",
   "pygments_lexer": "ipython3",
   "version": "3.8.3"
  }
 },
 "nbformat": 4,
 "nbformat_minor": 4
}
